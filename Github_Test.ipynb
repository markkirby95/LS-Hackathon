{
  "nbformat": 4,
  "nbformat_minor": 0,
  "metadata": {
    "colab": {
      "name": "Github_Test.ipynb",
      "provenance": [],
      "collapsed_sections": [],
      "toc_visible": true,
      "authorship_tag": "ABX9TyPnqZH7Iks99d/r0a8EKZFX"
    },
    "kernelspec": {
      "name": "python3",
      "display_name": "Python 3"
    }
  },
  "cells": [
    {
      "cell_type": "code",
      "metadata": {
        "colab": {
          "base_uri": "https://localhost:8080/"
        },
        "id": "uidEjTL-GxeG",
        "outputId": "27b93b8f-a430-4119-8342-1a6422e5e220"
      },
      "source": [
        "!git clone https://github.com/markkirby95/LS-Hackathon.git"
      ],
      "execution_count": null,
      "outputs": [
        {
          "output_type": "stream",
          "text": [
            "Cloning into 'LS-Hackathon'...\n",
            "remote: Enumerating objects: 4, done.\u001b[K\n",
            "remote: Counting objects: 100% (4/4), done.\u001b[K\n",
            "remote: Compressing objects: 100% (3/3), done.\u001b[K\n",
            "remote: Total 4 (delta 1), reused 4 (delta 1), pack-reused 0\u001b[K\n",
            "Unpacking objects: 100% (4/4), done.\n"
          ],
          "name": "stdout"
        }
      ]
    },
    {
      "cell_type": "code",
      "metadata": {
        "id": "b2C4gpm5HLxS"
      },
      "source": [
        "# Adding an extra cell"
      ],
      "execution_count": 1,
      "outputs": []
    },
    {
      "cell_type": "code",
      "metadata": {
        "colab": {
          "base_uri": "https://localhost:8080/"
        },
        "id": "WQoQpdUdVgn9",
        "outputId": "309829a2-a82d-45b2-cd3c-432625ee1408"
      },
      "source": [
        "!pip install mlflow --quiet\n",
        "!pip install pyngrok --quiet\n",
        "\n",
        "import mlflow\n"
      ],
      "execution_count": 2,
      "outputs": [
        {
          "output_type": "stream",
          "text": [
            "\u001b[K     |████████████████████████████████| 13.9MB 318kB/s \n",
            "\u001b[K     |████████████████████████████████| 337kB 48.1MB/s \n",
            "\u001b[K     |████████████████████████████████| 81kB 9.0MB/s \n",
            "\u001b[K     |████████████████████████████████| 1.1MB 48.9MB/s \n",
            "\u001b[K     |████████████████████████████████| 61kB 7.6MB/s \n",
            "\u001b[K     |████████████████████████████████| 163kB 50.0MB/s \n",
            "\u001b[K     |████████████████████████████████| 153kB 50.1MB/s \n",
            "\u001b[K     |████████████████████████████████| 92kB 10.3MB/s \n",
            "\u001b[K     |████████████████████████████████| 133kB 43.4MB/s \n",
            "\u001b[K     |████████████████████████████████| 2.6MB 51.5MB/s \n",
            "\u001b[K     |████████████████████████████████| 81kB 9.6MB/s \n",
            "\u001b[K     |████████████████████████████████| 71kB 8.3MB/s \n",
            "\u001b[K     |████████████████████████████████| 204kB 48.6MB/s \n",
            "\u001b[K     |████████████████████████████████| 51kB 6.4MB/s \n",
            "\u001b[?25h  Building wheel for prometheus-flask-exporter (setup.py) ... \u001b[?25l\u001b[?25hdone\n",
            "  Building wheel for alembic (setup.py) ... \u001b[?25l\u001b[?25hdone\n",
            "  Building wheel for databricks-cli (setup.py) ... \u001b[?25l\u001b[?25hdone\n",
            "  Building wheel for pyngrok (setup.py) ... \u001b[?25l\u001b[?25hdone\n"
          ],
          "name": "stdout"
        }
      ]
    },
    {
      "cell_type": "code",
      "metadata": {
        "colab": {
          "base_uri": "https://localhost:8080/"
        },
        "id": "1soyya9BVaoz",
        "outputId": "9d694214-8839-4c7b-fc84-5bac2592aae6"
      },
      "source": [
        "with mlflow.start_run(run_name=\"MLflow on Colab\"):\n",
        "  mlflow.log_metric(\"m1\", 2.0)\n",
        "  mlflow.log_param(\"p1\", \"mlflow-colab\")\n",
        "\n",
        "# run tracking UI in the background\n",
        "get_ipython().system_raw(\"mlflow ui --port 5000 &\") # run tracking UI in the background\n",
        "\n",
        "\n",
        "# create remote tunnel using ngrok.com to allow local port access\n",
        "# borrowed from https://colab.research.google.com/github/alfozan/MLflow-GBRT-demo/blob/master/MLflow-GBRT-demo.ipynb#scrollTo=4h3bKHMYUIG6\n",
        "\n",
        "from pyngrok import ngrok\n",
        "\n",
        "# Terminate open tunnels if exist\n",
        "ngrok.kill()\n",
        "\n",
        "# Setting the authtoken (optional)\n",
        "# Get your authtoken from https://dashboard.ngrok.com/auth\n",
        "NGROK_AUTH_TOKEN = \"\"\n",
        "ngrok.set_auth_token(NGROK_AUTH_TOKEN)\n",
        "\n",
        "# Open an HTTPs tunnel on port 5000 for http://localhost:5000\n",
        "ngrok_tunnel = ngrok.connect(addr=\"5000\", proto=\"http\", bind_tls=True)\n",
        "print(\"MLflow Tracking UI:\", ngrok_tunnel.public_url)"
      ],
      "execution_count": 25,
      "outputs": [
        {
          "output_type": "stream",
          "text": [
            "MLflow Tracking UI: https://8a68ddc05832.ngrok.io\n"
          ],
          "name": "stdout"
        }
      ]
    },
    {
      "cell_type": "code",
      "metadata": {
        "colab": {
          "base_uri": "https://localhost:8080/",
          "height": 202
        },
        "id": "fcGuK6DvWqZl",
        "outputId": "c195484c-7b52-4420-94d3-f7f10ec32f24"
      },
      "source": [
        "from sklearn.datasets import load_iris\n",
        "import pandas as pd\n",
        "import numpy as np\n",
        "\n",
        "data = load_iris()\n",
        "\n",
        "feature_names = ['sepal_length', 'sepal_width', 'petal_length', 'petal_width']\n",
        "y_name = 'target'\n",
        "\n",
        "data_df = pd.DataFrame(\n",
        "    data=np.c_[data['data'], data['target']],\n",
        "    columns=feature_names + [y_name])\n",
        "data_df.head()\n"
      ],
      "execution_count": 7,
      "outputs": [
        {
          "output_type": "execute_result",
          "data": {
            "text/html": [
              "<div>\n",
              "<style scoped>\n",
              "    .dataframe tbody tr th:only-of-type {\n",
              "        vertical-align: middle;\n",
              "    }\n",
              "\n",
              "    .dataframe tbody tr th {\n",
              "        vertical-align: top;\n",
              "    }\n",
              "\n",
              "    .dataframe thead th {\n",
              "        text-align: right;\n",
              "    }\n",
              "</style>\n",
              "<table border=\"1\" class=\"dataframe\">\n",
              "  <thead>\n",
              "    <tr style=\"text-align: right;\">\n",
              "      <th></th>\n",
              "      <th>sepal_length</th>\n",
              "      <th>sepal_width</th>\n",
              "      <th>petal_length</th>\n",
              "      <th>petal_width</th>\n",
              "      <th>target</th>\n",
              "    </tr>\n",
              "  </thead>\n",
              "  <tbody>\n",
              "    <tr>\n",
              "      <th>0</th>\n",
              "      <td>5.1</td>\n",
              "      <td>3.5</td>\n",
              "      <td>1.4</td>\n",
              "      <td>0.2</td>\n",
              "      <td>0.0</td>\n",
              "    </tr>\n",
              "    <tr>\n",
              "      <th>1</th>\n",
              "      <td>4.9</td>\n",
              "      <td>3.0</td>\n",
              "      <td>1.4</td>\n",
              "      <td>0.2</td>\n",
              "      <td>0.0</td>\n",
              "    </tr>\n",
              "    <tr>\n",
              "      <th>2</th>\n",
              "      <td>4.7</td>\n",
              "      <td>3.2</td>\n",
              "      <td>1.3</td>\n",
              "      <td>0.2</td>\n",
              "      <td>0.0</td>\n",
              "    </tr>\n",
              "    <tr>\n",
              "      <th>3</th>\n",
              "      <td>4.6</td>\n",
              "      <td>3.1</td>\n",
              "      <td>1.5</td>\n",
              "      <td>0.2</td>\n",
              "      <td>0.0</td>\n",
              "    </tr>\n",
              "    <tr>\n",
              "      <th>4</th>\n",
              "      <td>5.0</td>\n",
              "      <td>3.6</td>\n",
              "      <td>1.4</td>\n",
              "      <td>0.2</td>\n",
              "      <td>0.0</td>\n",
              "    </tr>\n",
              "  </tbody>\n",
              "</table>\n",
              "</div>"
            ],
            "text/plain": [
              "   sepal_length  sepal_width  petal_length  petal_width  target\n",
              "0           5.1          3.5           1.4          0.2     0.0\n",
              "1           4.9          3.0           1.4          0.2     0.0\n",
              "2           4.7          3.2           1.3          0.2     0.0\n",
              "3           4.6          3.1           1.5          0.2     0.0\n",
              "4           5.0          3.6           1.4          0.2     0.0"
            ]
          },
          "metadata": {
            "tags": []
          },
          "execution_count": 7
        }
      ]
    },
    {
      "cell_type": "code",
      "metadata": {
        "id": "jiaZzl8WZZ5k"
      },
      "source": [
        "from sklearn.model_selection import train_test_split\n",
        "train, test = train_test_split(data_df)"
      ],
      "execution_count": 8,
      "outputs": []
    },
    {
      "cell_type": "code",
      "metadata": {
        "id": "9YCzYOvSZbSZ"
      },
      "source": [
        "x_train = train[feature_names]\n",
        "y_train = train[y_name]\n",
        "\n",
        "x_test = test[feature_names]\n",
        "y_test = test[y_name]"
      ],
      "execution_count": 9,
      "outputs": []
    },
    {
      "cell_type": "code",
      "metadata": {
        "id": "8b4TW07bZf6W"
      },
      "source": [
        "from sklearn.metrics import mean_squared_error, mean_absolute_error, r2_score\n",
        "def eval_metrics(actual, pred):\n",
        "    rmse = np.sqrt(mean_squared_error(actual, pred))\n",
        "    mae = mean_absolute_error(actual, pred)\n",
        "    r2 = r2_score(actual, pred)\n",
        "    return rmse, mae, r2"
      ],
      "execution_count": 10,
      "outputs": []
    },
    {
      "cell_type": "code",
      "metadata": {
        "id": "NmBwDIx1Zi-A"
      },
      "source": [
        "import mlflow\n",
        "import mlflow.sklearn"
      ],
      "execution_count": 11,
      "outputs": []
    },
    {
      "cell_type": "code",
      "metadata": {
        "id": "FBYz4BdmZokP"
      },
      "source": [
        "mlflow.tracking._DEFAULT_USER_ID = 'mark.kirby'"
      ],
      "execution_count": 21,
      "outputs": []
    },
    {
      "cell_type": "code",
      "metadata": {
        "colab": {
          "base_uri": "https://localhost:8080/"
        },
        "id": "NUck5PK4Zt_p",
        "outputId": "04ba7e58-ee27-4261-d5f3-062a119fdce2"
      },
      "source": [
        "mlflow.set_tracking_uri(\"http://localhost:5000\")\n",
        "! mlflow ui"
      ],
      "execution_count": 22,
      "outputs": [
        {
          "output_type": "stream",
          "text": [
            "[2020-12-01 22:30:36 +0000] [261] [INFO] Starting gunicorn 20.0.4\n",
            "[2020-12-01 22:30:36 +0000] [261] [ERROR] Connection in use: ('127.0.0.1', 5000)\n",
            "[2020-12-01 22:30:36 +0000] [261] [ERROR] Retrying in 1 second.\n",
            "[2020-12-01 22:30:37 +0000] [261] [ERROR] Connection in use: ('127.0.0.1', 5000)\n",
            "[2020-12-01 22:30:37 +0000] [261] [ERROR] Retrying in 1 second.\n",
            "[2020-12-01 22:30:38 +0000] [261] [ERROR] Connection in use: ('127.0.0.1', 5000)\n",
            "[2020-12-01 22:30:38 +0000] [261] [ERROR] Retrying in 1 second.\n",
            "[2020-12-01 22:30:39 +0000] [261] [ERROR] Connection in use: ('127.0.0.1', 5000)\n",
            "[2020-12-01 22:30:39 +0000] [261] [ERROR] Retrying in 1 second.\n",
            "[2020-12-01 22:30:40 +0000] [261] [ERROR] Connection in use: ('127.0.0.1', 5000)\n",
            "[2020-12-01 22:30:40 +0000] [261] [ERROR] Retrying in 1 second.\n",
            "[2020-12-01 22:30:41 +0000] [261] [ERROR] Can't connect to ('127.0.0.1', 5000)\n",
            "Running the mlflow server failed. Please see the logs above for details.\n"
          ],
          "name": "stdout"
        }
      ]
    },
    {
      "cell_type": "code",
      "metadata": {
        "colab": {
          "base_uri": "https://localhost:8080/"
        },
        "id": "kMxksDc4ZyRd",
        "outputId": "7da7e9b2-7c6b-47bc-c8f3-13b9e7f0f35f"
      },
      "source": [
        "from sklearn.linear_model import LogisticRegression\n",
        "\n",
        "tuned_parameters = [\n",
        "    {'penalty': 'l2', 'solver': 'newton-cg', 'max_iter': 10},\n",
        "    {'penalty': 'l1', 'solver': 'liblinear', 'max_iter': 10},\n",
        "    {'penalty': 'l1', 'solver': 'liblinear', 'max_iter': 30},\n",
        "    {'penalty': 'l2', 'solver': 'liblinear', 'max_iter': 50},\n",
        "]\n",
        "\n",
        "\n",
        "cnt = 0 \n",
        "for param in tuned_parameters:\n",
        "    with mlflow.start_run():\n",
        "        lr = LogisticRegression(max_iter=param['max_iter'], penalty=param['penalty'], solver=param['solver'])\n",
        "        lr.fit(x_train, y_train)\n",
        "        y_pred = lr.predict(x_test)\n",
        "\n",
        "        (rmse, mae, r2) = eval_metrics(y_test, y_pred)\n",
        "\n",
        "        mlflow.log_metric(\"rmse\", rmse)\n",
        "        mlflow.log_metric(\"r2\", r2)\n",
        "        mlflow.log_metric(\"mae\", mae)\n",
        "        mlflow.log_param(\"max_iter\", param['max_iter'])\n",
        "        mlflow.log_param(\"penalty\", param['penalty'])\n",
        "        mlflow.log_param(\"solver\", param['solver'])\n",
        "\n",
        "        mlflow.sklearn.log_model(lr, \"model\")\n",
        "        \n",
        "    cnt += 1"
      ],
      "execution_count": 17,
      "outputs": [
        {
          "output_type": "stream",
          "text": [
            "/usr/local/lib/python3.6/dist-packages/sklearn/utils/optimize.py:212: ConvergenceWarning: newton-cg failed to converge. Increase the number of iterations.\n",
            "  \"number of iterations.\", ConvergenceWarning)\n",
            "/usr/local/lib/python3.6/dist-packages/sklearn/svm/_base.py:947: ConvergenceWarning: Liblinear failed to converge, increase the number of iterations.\n",
            "  \"the number of iterations.\", ConvergenceWarning)\n",
            "/usr/local/lib/python3.6/dist-packages/sklearn/svm/_base.py:947: ConvergenceWarning: Liblinear failed to converge, increase the number of iterations.\n",
            "  \"the number of iterations.\", ConvergenceWarning)\n"
          ],
          "name": "stderr"
        }
      ]
    }
  ]
}